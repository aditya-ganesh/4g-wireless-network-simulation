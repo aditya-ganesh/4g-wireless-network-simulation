{
  "cells": [
    {
      "cell_type": "markdown",
      "metadata": {},
      "source": [
        "# 4G/5G Wireless Network Simulation"
      ]
    },
    {
      "cell_type": "markdown",
      "metadata": {},
      "source": [
        "**Please note** : This project makes use of two custom libraries, namely:\n",
        "\n",
        "\n",
        "```Hexalattice```         :       Used for plotting the hexagonal grids for 4G and 5G Networks  \n",
        "```Celluloid```           :       Simple framework for capturing animation and rendering to video\n",
        "\n",
        "\n",
        "These may be installed using pip as\n",
        "\n",
        "```pip install hexalattice celluloid```\n",
        "\n",
        "In an anaconda environment, they may be installed through the Conda Forge by adding it as a channel\n",
        "\n",
        "```\n",
        "conda config --add channels conda-forge\n",
        "conda config --set channel_priority strict\n",
        "conda install hexalattice celluloid\n",
        "```"
      ]
    },
    {
      "cell_type": "markdown",
      "metadata": {},
      "source": [
        "## Imports defined here\n",
        "\n",
        "\n",
        "**Please note:** `bisect` is used to perform binary search operations in the grid assignment function"
      ]
    },
    {
      "cell_type": "code",
      "execution_count": 1,
      "metadata": {
        "id": "4jgqN6aZWd9Z"
      },
      "outputs": [],
      "source": [
        "#Table manipulation inclusions\n",
        "\n",
        "import numpy as np\n",
        "import pandas as pd\n",
        "\n",
        "\n",
        "#Mathematical function inclusions\n",
        "\n",
        "import math\n",
        "\n",
        "# Graphing inclusions\n",
        "import matplotlib.pyplot as plt\n",
        "from hexalattice import hexalattice as hxlat\n",
        "\n",
        "\n",
        "#Utility inclusions\n",
        "import bisect\n",
        "\n",
        "\n",
        "#Animation\n",
        "from celluloid import Camera"
      ]
    },
    {
      "cell_type": "code",
      "execution_count": 2,
      "metadata": {
        "id": "WAPjJHbYbyhM"
      },
      "outputs": [],
      "source": [
        "from IPython.display import HTML"
      ]
    },
    {
      "cell_type": "markdown",
      "metadata": {},
      "source": [
        "## Reproducibility \n",
        "\n",
        "May be set by uncommenting the line below"
      ]
    },
    {
      "cell_type": "code",
      "execution_count": 3,
      "metadata": {
        "id": "HXKfVSo1WgA7"
      },
      "outputs": [],
      "source": [
        "# Fixing random state for reproducibility\n",
        "#np.random.seed(19680801)"
      ]
    },
    {
      "cell_type": "markdown",
      "metadata": {},
      "source": [
        "## Constant Definitions\n",
        "\n",
        "Constants are grouped by purpose : animation, colours used for graphing, network parameters by technology (4G / 5G), and user parameters. Constants and functions have been defined to adhere to Self Commenting Code principles. In general, variables use the convention `variable_name` while functions use `functionName`."
      ]
    },
    {
      "cell_type": "code",
      "execution_count": 4,
      "metadata": {},
      "outputs": [],
      "source": [
        "animation_duration_s = 30\n",
        "seconds_per_frame = 0.2\n",
        "kpi_fail_frames = 0"
      ]
    },
    {
      "cell_type": "code",
      "execution_count": 5,
      "metadata": {
        "id": "N5GFLo_3Wha4"
      },
      "outputs": [],
      "source": [
        "#Colour definitions go here\n",
        "\n",
        "user_edgeclr = (0, 0, 0, 0.8)\n",
        "user_faceclr = (0, 0, 0, 0.2)\n",
        "\n",
        "user_pltsize = 5\n",
        "\n",
        "marker_4g = 'o'\n",
        "marker_5g = '^'\n",
        "\n",
        "user_faces =  [\n",
        "                '#99444680',\n",
        "                '#af894680',\n",
        "                '#a5b75280',\n",
        "                '#42964380',\n",
        "                '#40a09a80'   ]\n",
        "\n",
        "\n",
        "user_edges =  [\n",
        "                '#994446FF',\n",
        "                '#af8946FF',\n",
        "                '#a5b752FF',\n",
        "                '#429643FF',\n",
        "                '#40a09aFF'   ]\n",
        "\n",
        "nw_edges_4g = [0.57, 0.6, 0.6, 0.9]\n",
        "nw_faces_4g = [0.57, 0.6, 0.6, 0.1]\n",
        "nw_edges_5g = [0.27, 0.52, 0.49, 0.8]\n",
        "nw_faces_5g = [0.27, 0.52, 0.49, 0.05]\n",
        "\n"
      ]
    },
    {
      "cell_type": "markdown",
      "metadata": {},
      "source": [
        "# Utility Constant Definitions"
      ]
    },
    {
      "cell_type": "markdown",
      "metadata": {},
      "source": [
        "## Physical Constants"
      ]
    },
    {
      "cell_type": "code",
      "execution_count": 6,
      "metadata": {
        "id": "UoCBKEEqWiw9"
      },
      "outputs": [],
      "source": [
        "#Mathematical + Physical Constants go here\n",
        "\n",
        "K_boltz = (1.3806503 * (10**-23))\n",
        "T_0 = 293.16\n"
      ]
    },
    {
      "cell_type": "markdown",
      "metadata": {},
      "source": [
        "## Hash Constants"
      ]
    },
    {
      "cell_type": "markdown",
      "metadata": {},
      "source": [
        "Simple hash function to assign mathematically a unique identifier to each cell in the grid \n",
        "\n",
        "The chosen expression is:\n",
        "\n",
        "```\n",
        "HASH = hash_a + ( hash_eval_x )  + ( hash_eval_y )\n",
        "```\n",
        "Where\n",
        "\n",
        "```\n",
        "hash_eval_x = hash_x * x * sign(x) * hash_sgn_x\n",
        "hash_eval_y = hash_y * y * sign(y) * hash_sgn_y\n",
        "\n",
        "```"
      ]
    },
    {
      "cell_type": "code",
      "execution_count": 7,
      "metadata": {},
      "outputs": [],
      "source": [
        "#Utility variables go here\n",
        "\n",
        "hash_a = 211\n",
        "hash_x = 53\n",
        "hash_y = 91\n",
        "hash_sgn_x = 71\n",
        "hash_sgn_y = 79"
      ]
    },
    {
      "cell_type": "code",
      "execution_count": 8,
      "metadata": {
        "id": "ErUFHdUoWkeo"
      },
      "outputs": [],
      "source": [
        "#Scaling values go here\n",
        "\n",
        "f_scale = (10**9)               # Frequency multiplier - Default 10^9 == GHz\n",
        "units_per_km = 1                # Maps distance to Cartesian scale - Default 1 : 1 unit == 1 km. 1000 : 1 unit = 1m"
      ]
    },
    {
      "cell_type": "markdown",
      "metadata": {},
      "source": [
        "# Network Constants defined here"
      ]
    },
    {
      "cell_type": "markdown",
      "metadata": {},
      "source": [
        "## 4G Specific constants"
      ]
    },
    {
      "cell_type": "code",
      "execution_count": 9,
      "metadata": {
        "id": "RaLfK_jGWlsB"
      },
      "outputs": [],
      "source": [
        "#Network specific values go here\n",
        "\n",
        "link_dbm_4g = 23\n",
        "freq_lte = 1.5\n",
        "noise_floor_4g = -90\n",
        "\n",
        "#tower specific constants go here\n",
        "\n",
        "tower_grid_4g =\t{   'x' : 7     ,    'y': 7     }\n",
        "num_towers_4g = tower_grid_4g['x'] * tower_grid_4g['y']\n",
        "range_4g = 2                    # Maximum cell cize - 4G\n",
        "\n",
        "outage_prob_4g = 0.01"
      ]
    },
    {
      "cell_type": "markdown",
      "metadata": {},
      "source": [
        "## 5G Specific Constants"
      ]
    },
    {
      "cell_type": "code",
      "execution_count": 10,
      "metadata": {
        "id": "FQLKZLuyee5N"
      },
      "outputs": [],
      "source": [
        "link_dbm_5g = 30\n",
        "freq_5g = 15\n",
        "noise_floor_5g = -80\n",
        "\n",
        "tower_grid_5g = tower_grid_4g\n",
        "num_towers_5g = num_towers_4g\n",
        "\n",
        "range_5g = 0.6\n",
        "gap_ratio_4g_5g = (range_4g - range_5g)/(range_4g)\n",
        "\n",
        "outage_prob_5g = 0.1"
      ]
    },
    {
      "cell_type": "markdown",
      "metadata": {},
      "source": [
        "## Common Network Constants"
      ]
    },
    {
      "cell_type": "code",
      "execution_count": 11,
      "metadata": {},
      "outputs": [],
      "source": [
        "rician_mean_loss_4g = 2\n",
        "rician_loss_offset_db = 2\n",
        "rayleigh_mean_loss_4g = 2\n",
        "rayleigh_prob_4g = 0.1\n",
        "\n",
        "\n",
        "seconds_per_outage_update = 2\n",
        "iters_per_outage_update = int(seconds_per_outage_update/seconds_per_frame)\n",
        "\n",
        "iters_per_reporting_update = int(iters_per_outage_update/2)"
      ]
    },
    {
      "cell_type": "markdown",
      "metadata": {},
      "source": [
        "# User Specific Constants"
      ]
    },
    {
      "cell_type": "code",
      "execution_count": 12,
      "metadata": {
        "id": "Q9ES20IxWoVR"
      },
      "outputs": [],
      "source": [
        "#User specific constants here\n",
        "num_users = 400\n",
        "max_vel = 60*units_per_km/1000\n",
        "\n",
        "user_range = {\n",
        "    'x_min' : -1*(tower_grid_4g['x']),\n",
        "    'x_max' :    (tower_grid_4g['x']-1), \n",
        "    'y_min' : -1*(tower_grid_4g['y']-1),\n",
        "    'y_max' :    (tower_grid_4g['y']-1), \n",
        "}\n",
        "\n",
        "moves_before_vel_change = 3"
      ]
    },
    {
      "cell_type": "markdown",
      "metadata": {},
      "source": [
        "# Network Performance Monitoring Constants"
      ]
    },
    {
      "cell_type": "code",
      "execution_count": 13,
      "metadata": {},
      "outputs": [],
      "source": [
        "nw_kpi_threshold = 0.99"
      ]
    },
    {
      "cell_type": "markdown",
      "metadata": {},
      "source": [
        "# Network Reporting Structure"
      ]
    },
    {
      "cell_type": "code",
      "execution_count": 14,
      "metadata": {},
      "outputs": [],
      "source": [
        "network_kpi_report = {\n",
        "    'average_strength'    :   0,\n",
        "    'average_rx_dbm_4g'   :   0,\n",
        "    'average_rx_dbm_5g'   :   0,\n",
        "    'num_users_total'     :   num_users,\n",
        "    'num_users_4g'        :   0,\n",
        "    'num_users_5g'        :   0,\n",
        "    'num_users_in_red'    :   0,\n",
        "    'perc_users_serviced' :   0,\n",
        "    'towers_offline_4g'   :   0,\n",
        "    'towers_offline_5g'   :   0,\n",
        "    'kpi_fails'           :   0  \n",
        "}"
      ]
    },
    {
      "cell_type": "markdown",
      "metadata": {
        "id": "vE5wDN5dXDDJ"
      },
      "source": [
        "# Plot specific declarations"
      ]
    },
    {
      "cell_type": "code",
      "execution_count": 15,
      "metadata": {
        "colab": {
          "base_uri": "https://localhost:8080/",
          "height": 282
        },
        "id": "W8OlKc9-byhV",
        "outputId": "93533649-5bac-4412-9ff2-6887013f30f5"
      },
      "outputs": [
        {
          "data": {
            "image/png": "[encoded data removed]",
            "text/plain": [
              "<Figure size 432x288 with 1 Axes>"
            ]
          },
          "metadata": {
            "needs_background": "light"
          },
          "output_type": "display_data"
        }
      ],
      "source": [
        "# Initialise variable to hold Matplotlib axes\n",
        "plt_axis = 0\n",
        "fig = plt.figure()\n",
        "fig_ax = fig.add_axes([ 0.1,0.1,0.75,0.75], frameon=True)"
      ]
    },
    {
      "cell_type": "code",
      "execution_count": 16,
      "metadata": {
        "id": "GggiRd6BWo-5"
      },
      "outputs": [],
      "source": [
        "camera = Camera(fig)"
      ]
    },
    {
      "cell_type": "markdown",
      "metadata": {
        "id": "TIVToufuXBn8"
      },
      "source": [
        "# Utility Functions"
      ]
    },
    {
      "cell_type": "code",
      "execution_count": 17,
      "metadata": {
        "id": "emXc6YIkWqMR"
      },
      "outputs": [],
      "source": [
        "#Define utility functions here\n",
        "\n",
        "def coordHash(list_x, list_y):\n",
        "    hashes = []\n",
        "    for i in range(len(list_x)):\n",
        "        hash_res = hash_a\n",
        "\n",
        "        hash_x_res = (hash_x*list_x[i])\n",
        "        hash_y_res = (hash_y*list_y[i])\n",
        "        \n",
        "        if(hash_x_res<0):\n",
        "            hash_x_res = hash_x_res * (-1) * hash_sgn_x\n",
        "        if(hash_y_res<0):\n",
        "            hash_y_res = hash_y_res * (-1) * hash_sgn_y\n",
        "        \n",
        "        hash_res = hash_res + hash_x_res + hash_y_res\n",
        "        hash_res = hex(int(hash_res))\n",
        "        hashes.append(hash_res)\n",
        "    return hashes\n",
        "\n",
        "\n",
        "def distEuclidArray(point_A_x, point_A_y, point_B_x, point_B_y):\n",
        "    distances = np.zeros(len(point_A_x))\n",
        "    for i in range(len(point_A_x)):\n",
        "        distances[i]  = math.sqrt (  ( (point_A_x[i]) - (point_B_x[i]) )**2  + ( (point_A_y[i]) - (point_B_y[i])  )**2  ) \n",
        "    return distances\n"
      ]
    },
    {
      "cell_type": "markdown",
      "metadata": {},
      "source": [
        "# Network Functions"
      ]
    },
    {
      "cell_type": "markdown",
      "metadata": {
        "id": "pJK1t48cW_hU"
      },
      "source": [
        "## 4G Table Functions"
      ]
    },
    {
      "cell_type": "code",
      "execution_count": 18,
      "metadata": {
        "id": "XbvjS7qQWsSK"
      },
      "outputs": [],
      "source": [
        "def create4GFrame():\n",
        "    #Table definition - 4G Towers\n",
        "\n",
        "    towers_4g_columns = ['id','active', 'centre_x', 'centre_y', 'frequency', 'tx_power_dbm_4g']\n",
        "    towers_4g_data = np.zeros(  shape= (num_towers_4g,len(towers_4g_columns))   )\n",
        "\n",
        "    towers_4g = pd.DataFrame(data=towers_4g_data, columns=towers_4g_columns)\n",
        "\n",
        "\n",
        "    hex_centers_4g, plt_axis = hxlat.create_hex_grid( nx=tower_grid_4g['x'],\n",
        "                                                ny=tower_grid_4g['y'],\n",
        "                                                min_diam= range_4g * units_per_km,\n",
        "                                                edge_color=[0.8, 0.8, 0.8],\n",
        "                                                h_ax=fig_ax,\n",
        "                                                do_plot=False)\n",
        "\n",
        "    ids_4g =  coordHash(hex_centers_4g[:, 0], hex_centers_4g[:, 1])\n",
        "\n",
        "    #Initialise such that all towers initially active, no interference loss, no reuse pattern, with centres given by hex_centers_4g\n",
        "    towers_4g=towers_4g.assign(id=ids_4g,active=1, frequency=freq_lte, centre_x=hex_centers_4g[:, 0], centre_y=hex_centers_4g[:, 1], tx_power_dbm_4g=link_dbm_4g)\n",
        "\n",
        "\n",
        "    return towers_4g, hex_centers_4g, plt_axis\n",
        "\n",
        "\n",
        "def plot4GFrame():\n",
        "    hex_centers_4g, plt_axis = hxlat.create_hex_grid( nx=tower_grid_4g['x'],\n",
        "                                            ny=tower_grid_4g['y'],\n",
        "                                            min_diam= range_4g * units_per_km,\n",
        "                                            edge_color=nw_edges_4g,\n",
        "                                            face_color=nw_faces_4g,\n",
        "                                            h_ax=fig_ax,\n",
        "                                            do_plot=True)\n",
        "\n",
        "\n",
        "\n",
        "\n",
        "def get4GBoundaries(towers_4g):\n",
        "\n",
        "    towers_4g_range_x_even = pd.unique(towers_4g['centre_x'])[0:tower_grid_4g['x']] - (range_4g * units_per_km)/2\n",
        "    towers_4g_range_x_even = np.append(  towers_4g_range_x_even, towers_4g_range_x_even[-1]+ (range_4g * units_per_km) )\n",
        "\n",
        "    towers_4g_range_x_odd = pd.unique(towers_4g['centre_x'])[tower_grid_4g['x']:] - (range_4g * units_per_km)/2\n",
        "    towers_4g_range_x_odd = np.append(  towers_4g_range_x_odd, towers_4g_range_x_odd[-1]+ (range_4g * units_per_km) )\n",
        "\n",
        "    towers_4g_centres_y = np.sort(pd.unique(towers_4g['centre_y']))\n",
        "\n",
        "    return towers_4g_range_x_even, towers_4g_range_x_odd, towers_4g_centres_y"
      ]
    },
    {
      "cell_type": "markdown",
      "metadata": {
        "id": "YSGSWsrprlwd"
      },
      "source": [
        "## 5GNR Table Functions"
      ]
    },
    {
      "cell_type": "code",
      "execution_count": 19,
      "metadata": {
        "id": "1tZr0b1Oc95c"
      },
      "outputs": [],
      "source": [
        "def create5GFrame(hex_centers_5g):\n",
        "    #Table definition - 4G Towers\n",
        "\n",
        "    towers_5g_columns = ['id','active', 'centre_x', 'centre_y', 'frequency', 'tx_power_dbm_5g']\n",
        "    towers_5g_data = np.zeros(  shape= (num_towers_5g,len(towers_5g_columns))   )\n",
        "\n",
        "    towers_5g = pd.DataFrame(data=towers_5g_data, columns=towers_5g_columns)\n",
        "\n",
        "    ids_5g =  coordHash(hex_centers_5g[:, 0], hex_centers_5g[:, 1])\n",
        "\n",
        "    #Initialise such that all towers initially active, no interference loss, no reuse pattern, with centres given by hex_centers_5g\n",
        "    towers_5g=towers_5g.assign(id=ids_5g,active=1, frequency=freq_5g, centre_x=hex_centers_5g[:, 0], centre_y=hex_centers_5g[:, 1], tx_power_dbm_5g=link_dbm_5g)\n",
        "\n",
        "\n",
        "    return towers_5g, plt_axis\n",
        "\n",
        "\n",
        "def plot5GFrame():\n",
        "    hex_centers_5g, plt_axis = hxlat.create_hex_grid( nx=tower_grid_4g['x'],\n",
        "                                            ny=tower_grid_4g['y'],\n",
        "                                            min_diam= range_4g * units_per_km,\n",
        "                                            plotting_gap = gap_ratio_4g_5g,\n",
        "                                            edge_color=nw_edges_5g,\n",
        "                                            face_color=nw_faces_5g, \n",
        "                                            h_ax=fig_ax,\n",
        "                                            do_plot=True)\n",
        "\n"
      ]
    },
    {
      "cell_type": "markdown",
      "metadata": {},
      "source": [
        "## Common Network Organisation Functions"
      ]
    },
    {
      "cell_type": "code",
      "execution_count": 20,
      "metadata": {},
      "outputs": [],
      "source": [
        "def generateOutageLists():\n",
        "    \n",
        "    active_states_4g = np.random.random(size=num_towers_4g)\n",
        "    active_states_4g[active_states_4g >= outage_prob_4g] = 1\n",
        "    active_states_4g[active_states_4g < outage_prob_4g] =  0\n",
        "\n",
        "    active_states_5g = np.random.random(size=num_towers_5g)\n",
        "    active_states_5g[active_states_5g >= outage_prob_5g] = 1\n",
        "    active_states_5g[active_states_5g < outage_prob_5g] =  0\n",
        "\n",
        "    return active_states_4g,active_states_5g\n",
        "    "
      ]
    },
    {
      "cell_type": "markdown",
      "metadata": {},
      "source": [
        "## Signal Attenuation Functions"
      ]
    },
    {
      "cell_type": "code",
      "execution_count": 21,
      "metadata": {},
      "outputs": [],
      "source": [
        "#Network Parameter Functions (Loss, Noise, Reception) go here\n",
        "\n",
        "def freeSpaceLoss(freq,dist):\n",
        "    loss = np.zeros(len(dist))\n",
        "    dist_np = np.array(dist)\n",
        "    loss = ( (-147.5522) + (20*( np.log10(freq*f_scale) + np.log10(dist_np* (1000/units_per_km)   ) ) ) ) \n",
        "    return loss\n",
        "\n",
        "\n",
        "\n",
        "def fadingLoss():\n",
        "\n",
        "    rayleigh_split = np.random.choice([0, 1], size=num_users, p=[.9, .1])\n",
        "    rician_split = 1 - rayleigh_split\n",
        "\n",
        "    rician_fade =   rician_mean_loss_4g         *   np.random.chisquare(df=2,size=num_users) - rician_loss_offset_db\n",
        "    rayleigh_fade = rayleigh_mean_loss_4g       *   np.random.rayleigh(scale=2,size=num_users)\n",
        "\n",
        "    rician_fade = np.multiply(rician_split,rician_fade) \n",
        "    rayleigh_fade = np.multiply(rayleigh_split,rayleigh_fade)\n",
        "\n",
        "    fade = rician_fade + rayleigh_fade\n",
        "    return fade"
      ]
    },
    {
      "cell_type": "markdown",
      "metadata": {},
      "source": [
        "# Dashboarding"
      ]
    },
    {
      "cell_type": "code",
      "execution_count": 22,
      "metadata": {},
      "outputs": [],
      "source": [
        "def updateDashboardData(user_data,towers_4g,towers_5g):\n",
        "    \n",
        "    global kpi_fail_frames\n",
        "\n",
        "    conns_4g = user_data.loc[user_data['link_rx_4g'] > noise_floor_4g  ,'link_rx_4g']\n",
        "    conns_5g = user_data.loc[user_data['link_rx_5g'] > noise_floor_5g  ,'link_rx_5g']\n",
        "    users_in_red = user_data.loc[user_data['signal_strength'] == 0 ,'signal_strength']\n",
        "    towers_down_4g = towers_4g[towers_4g['active'] == 0]\n",
        "    towers_down_5g = towers_5g[towers_5g['active'] == 0]\n",
        "\n",
        "    network_kpi_report['average_strength'] =  np.average(user_data['signal_strength'])\n",
        "    network_kpi_report['average_rx_dbm_4g'] = np.average(conns_4g)\n",
        "    network_kpi_report['average_rx_dbm_5g'] = np.average(conns_5g)\n",
        "    network_kpi_report['num_users_5g'] = np.sum(user_data['using_5g'])\n",
        "    network_kpi_report['num_users_4g'] = num_users - network_kpi_report['num_users_5g']\n",
        "    network_kpi_report['num_users_in_red'] = len(users_in_red)\n",
        "    network_kpi_report['perc_users_serviced'] = 1 - (network_kpi_report['num_users_in_red'] / num_users)\n",
        "    network_kpi_report['towers_offline_4g'] = len(towers_down_4g)\n",
        "    network_kpi_report['towers_offline_5g'] = len(towers_down_5g)\n",
        "    if (network_kpi_report['perc_users_serviced'] < nw_kpi_threshold):\n",
        "        kpi_fail_frames += iters_per_reporting_update\n",
        "        network_kpi_report['kpi_fails'] = kpi_fail_frames"
      ]
    },
    {
      "cell_type": "code",
      "execution_count": 23,
      "metadata": {},
      "outputs": [],
      "source": [
        "def drawDashboard():\n",
        "\n",
        "    dashboard_string = \"Network KPI Report\\n\\n\\\n",
        "                        Average Signal Strength : {:.1f}\\n\\\n",
        "                        Average RX dBm 4G : {:.3f}\\n\\\n",
        "                        Average RX dBm 5G : {:.3f}\\n\\n\\\n",
        "                        Total Users : {:.0f}\\n\\\n",
        "                        4G Users : {:.0f}\\n\\\n",
        "                        5G Users : {:.0f}\\n\\\n",
        "                        % Users Serviced : {:.3f}%\\n\\n\\\n",
        "                        4G Towers Offline : {:.0f}\\n\\\n",
        "                        5G Towers Offline : {:.0f}\\n\\n\\\n",
        "                        KPI Fail {:.3f}\".format(        network_kpi_report['average_strength'], \\\n",
        "                                                            network_kpi_report['average_rx_dbm_4g'], \\\n",
        "                                                            network_kpi_report['average_rx_dbm_5g'], \\\n",
        "                                                            network_kpi_report['num_users_total'], \\\n",
        "                                                            network_kpi_report['num_users_4g'], \\\n",
        "                                                            network_kpi_report['num_users_5g'], \\\n",
        "                                                            network_kpi_report['perc_users_serviced']*100, \\\n",
        "                                                            network_kpi_report['towers_offline_4g'],\\\n",
        "                                                            network_kpi_report['towers_offline_5g'],\\\n",
        "                                                            network_kpi_report['kpi_fails']         ) \n",
        "\n",
        "\n",
        "\n",
        "    # these are matplotlib.patch.Patch properties\n",
        "    kpi_box_props = dict(boxstyle='square', facecolor=[0.9,0.9,0.9],alpha=0.05)\n",
        "\n",
        "    # place a text box in upper left in axes coords\n",
        "    plt_axis.text(1.02, 0.6, dashboard_string, transform=plt_axis.transAxes, fontsize=4,\n",
        "            verticalalignment='top', bbox=kpi_box_props)\n",
        "\n",
        "    "
      ]
    },
    {
      "cell_type": "markdown",
      "metadata": {
        "id": "b3Z2BnNeW8ib"
      },
      "source": [
        "# User Table Functions"
      ]
    },
    {
      "cell_type": "code",
      "execution_count": 24,
      "metadata": {
        "id": "VHylbgChWtSt"
      },
      "outputs": [],
      "source": [
        "def createUserTable():\n",
        "    \n",
        "    user_data_columns = ['pos_x', 'pos_y', 'vel_x', 'vel_y', 'tower', 'tower_dist', 'link_rx_4g','link_rx_5g', 'using_5g', 'signal_strength']\n",
        "    user_data_rows = np.zeros(  shape= (num_users,len(user_data_columns))   )\n",
        "\n",
        "    user_data = pd.DataFrame(data=user_data_rows, columns=user_data_columns)\n",
        "\n",
        "\n",
        "    user_data=user_data.assign( pos_x   =   np.random.uniform(user_range['x_min'], user_range['x_max'],size=num_users), \n",
        "                                pos_y   =   np.random.uniform(user_range['y_min'], user_range['y_max'],size=num_users), \n",
        "                                vel_x   =   np.random.uniform(-max_vel, max_vel,size=num_users),\n",
        "                                vel_y   =   np.random.uniform(-max_vel, max_vel,size=num_users)       )     \n",
        "\n",
        "\n",
        "    return user_data\n",
        "\n",
        "\n",
        "\n",
        "\n",
        "\n",
        "\n",
        "def getNearestTowers(user_data, towers_4g_range_x_even, towers_4g_range_x_odd, towers_4g_centres_y ):\n",
        "    \n",
        "    nearest_centres = np.zeros((num_users,2))\n",
        "    \n",
        "    for x in range(num_users):\n",
        "\n",
        "        #print(\"Pos X : {} \\t Pos Y : {}\".format(user_data['pos_x'][x],user_data['pos_y'][x]))\n",
        "\n",
        "        index_y= bisect.bisect_right(a=towers_4g_centres_y, x=user_data['pos_y'][x] )\n",
        "        if(index_y == tower_grid_4g['y']):\n",
        "            index_y-=1       \n",
        "        diffs_y = [ abs((user_data['pos_y'][x] - towers_4g_centres_y[index_y-1])), abs(( user_data['pos_y'][x] - towers_4g_centres_y[index_y]))  ]\n",
        "        if(diffs_y[0]<diffs_y[1]):\n",
        "            index_y-=1\n",
        "        nearest_centres[x,1] = towers_4g_centres_y[index_y]\n",
        "\n",
        "\n",
        "    \n",
        "        if(index_y%2==0):\n",
        "            \n",
        "            index_x = bisect.bisect_left(a=towers_4g_range_x_even, x=user_data['pos_x'][x] )\n",
        "            if(index_x == 0):\n",
        "                index_x += 1\n",
        "            elif (index_x == len(towers_4g_range_x_even)):\n",
        "                index_x -= 1\n",
        "            nearest_centres[x,0] = (towers_4g_range_x_even[index_x] + towers_4g_range_x_even[index_x-1])/2\n",
        "       \n",
        "        else:\n",
        "            index_x = bisect.bisect_left(a=towers_4g_range_x_odd, x=user_data['pos_x'][x] )\n",
        "            if(index_x == 0):\n",
        "                index_x += 1\n",
        "            elif (index_x == len(towers_4g_range_x_odd)):\n",
        "                index_x -= 1\n",
        "            nearest_centres[x,0] = (towers_4g_range_x_odd[index_x] + towers_4g_range_x_odd[index_x-1])/2\n",
        "\n",
        "        #print(\"Nearest X : {} \\t\\t Nearest Y : {}\".format(nearest_centres[x,0], nearest_centres[x,1]))\n",
        "\n",
        "\n",
        "    return nearest_centres\n",
        "\n",
        "\n",
        "def assignTowers(user_data,nearest_centres):\n",
        "    user_tower_hashes = coordHash(nearest_centres[:,0],nearest_centres[:,1])\n",
        "    user_data = user_data.assign(tower = user_tower_hashes)\n",
        "    user_data = user_data.assign(tower_dist=distEuclidArray(nearest_centres[:,0],nearest_centres[:,1],user_data['pos_x'],user_data['pos_y'])   )\n",
        "\n",
        "    return user_data\n",
        "\n",
        "\n",
        "\n",
        "def computeSignalRxes(user_data,towers_4g,towers_5g):\n",
        "\n",
        "    towers_down_4g = towers_4g[towers_4g['active'] == 0]\n",
        "    towers_down_5g = towers_5g[towers_5g['active'] == 0]\n",
        "\n",
        "\n",
        "    link_4g = link_dbm_4g - freeSpaceLoss(freq_lte,user_data['tower_dist']) -fadingLoss ()\n",
        "    link_5g = link_dbm_5g - freeSpaceLoss(freq_5g,user_data['tower_dist'])  -fadingLoss ()\n",
        "\n",
        "    user_data=user_data.assign(link_rx_4g=link_4g)\n",
        "    user_data=user_data.assign(link_rx_5g=link_5g)\n",
        "\n",
        "    if(not towers_down_4g.empty):\n",
        "        inactive_4g = towers_down_4g['id'].tolist()\n",
        "        for tower_iter in inactive_4g:\n",
        "            user_data.loc[user_data['tower'] ==  tower_iter ,'link_rx_4g'] = -999\n",
        "    if(not towers_down_5g.empty):\n",
        "        inactive_5g = towers_down_5g['id'].tolist()\n",
        "        for tower_iter in inactive_5g:\n",
        "            user_data.loc[user_data['tower'] ==  tower_iter ,'link_rx_5g'] = -999\n",
        "    \n",
        "    user_data.loc[user_data['link_rx_5g'] > noise_floor_5g  ,'using_5g'] = 1\n",
        "    user_data.loc[user_data['link_rx_5g'] < noise_floor_5g  ,'using_5g'] = 0\n",
        "\n",
        "    return user_data\n",
        "\n",
        "\n",
        "\n",
        "\n",
        "\n",
        "def assignSignalStrength(user_data):\n",
        "    strength_array = np.ceil( (1-user_data['using_5g']) * (user_data['link_rx_4g']-noise_floor_4g)/10)  .astype(int)\n",
        "    strength_array = strength_array + np.ceil( (user_data['using_5g']) * (user_data['link_rx_5g']-noise_floor_5g)/10)  .astype(int)\n",
        "    \n",
        "    \n",
        "    strength_array[strength_array>4 ] = 4\n",
        "    strength_array[strength_array<0 ] = 0\n",
        "    user_data = user_data.assign(signal_strength= strength_array)\n",
        "    return user_data\n",
        "\n",
        "\n",
        "\n",
        "\n",
        "def getSignalColours(strength_arr):\n",
        "  length = len(strength_arr)\n",
        "  face_colours = np.empty(length,dtype='object')\n",
        "  edge_colours = np.empty(length,dtype='object')\n",
        "  for i in range(length):\n",
        "      face_colours[i] = user_faces[strength_arr[i]]\n",
        "      edge_colours[i] = user_edges[strength_arr[i]]\n",
        "  return face_colours,edge_colours\n",
        "\n",
        "\n",
        "\n",
        "\n",
        "def createUserScatter(user_data,plt_axis,nw_type='4g'):\n",
        "\n",
        "    if(nw_type == '4g'):\n",
        "      nw_marker = marker_4g\n",
        "    elif(nw_type == '5g'):\n",
        "      nw_marker = marker_5g\n",
        "\n",
        "    strength_arr = user_data['signal_strength'].values\n",
        "    length = len(strength_arr)\n",
        "    face_colours = np.empty(length,dtype='object')\n",
        "    edge_colours = np.empty(length,dtype='object')\n",
        "    for i in range(length):\n",
        "      face_colours[i] = user_faces[strength_arr[i]]\n",
        "      edge_colours[i] = user_edges[strength_arr[i]]\n",
        "\n",
        "\n",
        "    userplot = plt_axis.scatter   (     x=user_data['pos_x'], \n",
        "                                    y=user_data['pos_y'],\n",
        "                                    s=user_pltsize ,\n",
        "                                    lw=0.5, \n",
        "                                    marker=nw_marker,\n",
        "                                    edgecolors=edge_colours ,\n",
        "                                    facecolors=face_colours  )\n",
        "    return userplot\n",
        "\n",
        "\n",
        "\n",
        "def updateUserPositions(user_data, change_vel):\n",
        "    user_pos = np.zeros([num_users,2])\n",
        "    \n",
        "\n",
        "    user_data = user_data.assign(   pos_x = user_data['pos_x'] + user_data['vel_x'],\n",
        "                                    pos_y = user_data['pos_y'] + user_data['vel_y']      )     \n",
        "    \n",
        "    \n",
        "    #Teleport drifting users back within the grid, near the edge\n",
        "\n",
        "    user_data.loc[user_data['pos_x'] > user_range['x_max']  ,'pos_x'] = user_range['x_max']\n",
        "    user_data.loc[user_data['pos_x'] < user_range['x_min']  ,'pos_x'] = user_range['x_min']\n",
        "    user_data.loc[user_data['pos_y'] > user_range['y_max']  ,'pos_y'] = user_range['y_max']\n",
        "    user_data.loc[user_data['pos_y'] < user_range['y_min']  ,'pos_y'] = user_range['y_min']\n",
        "    \n",
        "    \n",
        "    \n",
        "    if(change_vel==0):\n",
        "        user_data = user_data.assign(   vel_x   =   np.random.uniform(-max_vel, max_vel,size=num_users),\n",
        "                                        vel_y   =   np.random.uniform(-max_vel, max_vel,size=num_users) ) \n",
        "\n",
        "    user_pos[:,0] =user_data['pos_x']\n",
        "    user_pos[:,1] =user_data['pos_y']\n",
        "\n",
        "    return user_data,user_pos"
      ]
    },
    {
      "cell_type": "markdown",
      "metadata": {
        "id": "zV7eMGjyWvjk"
      },
      "source": [
        "# Initialisation"
      ]
    },
    {
      "cell_type": "markdown",
      "metadata": {},
      "source": [
        "Initial values may be redefined here as necessary, or removed to set them to default values defined above."
      ]
    },
    {
      "cell_type": "code",
      "execution_count": 25,
      "metadata": {},
      "outputs": [],
      "source": [
        "animation_duration_s=60\n",
        "freq_lte= 1.5\n",
        "freq_5g = 10\n",
        "outage_prob_4g = 0.000\n",
        "outage_prob_5g = 0.1\n",
        "output_file='model-output.mp4'"
      ]
    },
    {
      "cell_type": "code",
      "execution_count": 26,
      "metadata": {
        "id": "L77x0Fx2WtMV"
      },
      "outputs": [],
      "source": [
        "towers_4g, hex_centers_4g, plt_axis = create4GFrame()\n",
        "towers_5g, plt_axis = create5GFrame(hex_centers_4g)\n",
        "towers_4g_range_x_even, towers_4g_range_x_odd, towers_4g_centres_y = get4GBoundaries(towers_4g)\n",
        "\n",
        "user_data = createUserTable()\n",
        "\n",
        "nearest_centres = getNearestTowers(user_data, towers_4g_range_x_even, towers_4g_range_x_odd, towers_4g_centres_y )\n",
        "user_data = assignTowers(user_data,nearest_centres)\n",
        "user_data = computeSignalRxes(user_data,towers_4g,towers_5g)\n",
        "\n",
        "#updateDashboardData(user_data,towers_4g,towers_5g)"
      ]
    },
    {
      "cell_type": "markdown",
      "metadata": {
        "id": "pT0E-ZOTWwnE"
      },
      "source": [
        "# Main Loop"
      ]
    },
    {
      "cell_type": "code",
      "execution_count": 27,
      "metadata": {
        "id": "dIpYFqKVWzaT"
      },
      "outputs": [],
      "source": [
        "\n",
        "for i in range( int (animation_duration_s/seconds_per_frame) ):\n",
        "    \n",
        "    #Update user positions every iteration, and user velocities every \"moves_before_vel_change\" iterations\n",
        "    user_data,user_pos = updateUserPositions(user_data, change_vel=((i+1)%moves_before_vel_change))\n",
        "    \n",
        "    #For every iters_per_outage_update, select 4G & 5G cells to go offline\n",
        "    if(i % iters_per_outage_update == 0):\n",
        "        active_states_4g, active_states_5g = generateOutageLists()\n",
        "        towers_4g=towers_4g.assign(active=active_states_4g)\n",
        "        towers_5g=towers_5g.assign(active=active_states_5g)\n",
        "\n",
        "   \n",
        "\n",
        "\n",
        "\n",
        "    #Get nearest pair of 4G/5G towers for each user, and set as active tower\n",
        "    nearest_centres = getNearestTowers(user_data, towers_4g_range_x_even, towers_4g_range_x_odd, towers_4g_centres_y )\n",
        "    user_data = assignTowers(user_data,nearest_centres)\n",
        "    \n",
        "    #Determine received signal for each user for both 4G and 5G networks, factoring path loss. Select 5G network if signal strength is above Minimum Detectable Signal\n",
        "    user_data = computeSignalRxes(user_data,towers_4g,towers_5g)\n",
        "    user_data = assignSignalStrength(user_data)\n",
        "    \n",
        "    #For every iters_per_reporting_update, refresh dashboard data\n",
        "    if(i % iters_per_reporting_update == 0):\n",
        "            updateDashboardData(user_data,towers_4g,towers_5g)    \n",
        "\n",
        "\n",
        "\n",
        "    #Plot 4G and 5G lattices\n",
        "    plot4GFrame()\n",
        "    plot5GFrame()\n",
        "\n",
        "    drawDashboard()\n",
        "    #Plot users, separately for 4g (o) and 5g (^)\n",
        "    createUserScatter(   user_data[ user_data['using_5g'] ==0 ]  ,plt_axis, nw_type='4g')\n",
        "    createUserScatter(   user_data[ user_data['using_5g'] ==1 ]  ,plt_axis, nw_type='5g')\n",
        "\n",
        "    #Animation capture trigger\n",
        "    camera.snap()\n",
        "    \n"
      ]
    },
    {
      "cell_type": "code",
      "execution_count": 28,
      "metadata": {
        "id": "8-BmeJGBW05_"
      },
      "outputs": [],
      "source": [
        "animation = camera.animate()\n",
        "#HTML(animation.to_html5_video())\n",
        "\n",
        "animation.save(output_file,    dpi=300, savefig_kwargs={'pad_inches': 'tight' }              )"
      ]
    }
  ],
  "metadata": {
    "colab": {
      "collapsed_sections": [],
      "name": "model_wireless_network_v2.1.0.ipynb",
      "provenance": []
    },
    "interpreter": {
      "hash": "45dbee7f89d55547f25da3ae6e3779a553bfb3dc081125177d503e97b84e23cc"
    },
    "kernelspec": {
      "display_name": "Python 3.9.6 64-bit ('ModSim': conda)",
      "name": "python3"
    },
    "language_info": {
      "codemirror_mode": {
        "name": "ipython",
        "version": 3
      },
      "file_extension": ".py",
      "mimetype": "text/x-python",
      "name": "python",
      "nbconvert_exporter": "python",
      "pygments_lexer": "ipython3",
      "version": "3.9.6"
    }
  },
  "nbformat": 4,
  "nbformat_minor": 0
}
